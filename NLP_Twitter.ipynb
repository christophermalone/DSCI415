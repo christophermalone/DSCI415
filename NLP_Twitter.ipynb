{
  "nbformat": 4,
  "nbformat_minor": 0,
  "metadata": {
    "colab": {
      "name": "NLP_Twitter.ipynb",
      "provenance": [],
      "authorship_tag": "ABX9TyP1X5ryjAddDkqidE0ogZSk",
      "include_colab_link": true
    },
    "kernelspec": {
      "name": "python3",
      "display_name": "Python 3"
    },
    "language_info": {
      "name": "python"
    }
  },
  "cells": [
    {
      "cell_type": "markdown",
      "metadata": {
        "id": "view-in-github",
        "colab_type": "text"
      },
      "source": [
        "<a href=\"https://colab.research.google.com/github/christophermalone/DSCI415/blob/main/NLP_Twitter.ipynb\" target=\"_parent\"><img src=\"https://colab.research.google.com/assets/colab-badge.svg\" alt=\"Open In Colab\"/></a>"
      ]
    },
    {
      "cell_type": "markdown",
      "metadata": {
        "id": "5CqQN9Jsz41f"
      },
      "source": [
        "# Natural Language Processing - Twitter"
      ]
    },
    {
      "cell_type": "markdown",
      "metadata": {
        "id": "mqyq7xt3-o4J"
      },
      "source": [
        "## Setting up Twitter Side"
      ]
    },
    {
      "cell_type": "markdown",
      "metadata": {
        "id": "qehPTW5JCuzr"
      },
      "source": [
        "Go to Twitter Development website and setup an new app.\n",
        "\n",
        "<p align='center'><img src=\"https://drive.google.com/uc?export=view&id=\" width=\"25%\" height=\"25%\"></img></p>\n"
      ]
    },
    {
      "cell_type": "markdown",
      "metadata": {
        "id": "QEiwzRnRY5TW"
      },
      "source": [
        "## Setting up Python"
      ]
    },
    {
      "cell_type": "code",
      "metadata": {
        "id": "v0nziZ3HY8XH"
      },
      "source": [
        "import os\n",
        "import tweepy\n",
        "import pandas as pd\n",
        "\n",
        "# specify keys/secrets from Twitter App\n",
        "consumer_key = 'Qr6yzfKssl5BNWgTCdtBd1cmo'\n",
        "consumer_secret = 'JxrU3CloNy7IYvsz46xL0jQtpCc9s1fVhlpuNnwkRPO8bU8v6n'\n",
        "access_token = '298028162-NDOhOTiXrSYLbfMMqztxWOgVVFCVtrpRMVfOSG3h'\n",
        "access_token_secret = 'uZLuQ8dmYzOYrtILKEX7nRW24YREEDm2cRP3qHEy1y3ea'\n",
        "\n",
        "auth = tweepy.OAuthHandler(consumer_key, consumer_secret)\n",
        "auth.set_access_token(access_token, access_token_secret)\n",
        "api = tweepy.API(auth)"
      ],
      "execution_count": 136,
      "outputs": []
    },
    {
      "cell_type": "markdown",
      "metadata": {
        "id": "IpjrwnB_cfQw"
      },
      "source": [
        ""
      ]
    },
    {
      "cell_type": "code",
      "metadata": {
        "colab": {
          "base_uri": "https://localhost:8080/",
          "height": 516
        },
        "id": "0HKhqNhLcfXZ",
        "outputId": "b3840b76-34a1-46da-bb7c-51e482b95c85"
      },
      "source": [
        "results = api.search(q='rittenhouse', count=1000)\n",
        "\n",
        "json_data = [r._json for r in results]\n",
        "\n",
        "#Convert json data to data.frame\n",
        "Twitterdf = pd.json_normalize(json_data)\n",
        "Twitterdf.head()"
      ],
      "execution_count": 137,
      "outputs": [
        {
          "output_type": "execute_result",
          "data": {
            "text/html": [
              "<div>\n",
              "<style scoped>\n",
              "    .dataframe tbody tr th:only-of-type {\n",
              "        vertical-align: middle;\n",
              "    }\n",
              "\n",
              "    .dataframe tbody tr th {\n",
              "        vertical-align: top;\n",
              "    }\n",
              "\n",
              "    .dataframe thead th {\n",
              "        text-align: right;\n",
              "    }\n",
              "</style>\n",
              "<table border=\"1\" class=\"dataframe\">\n",
              "  <thead>\n",
              "    <tr style=\"text-align: right;\">\n",
              "      <th></th>\n",
              "      <th>created_at</th>\n",
              "      <th>id</th>\n",
              "      <th>id_str</th>\n",
              "      <th>text</th>\n",
              "      <th>truncated</th>\n",
              "      <th>source</th>\n",
              "      <th>in_reply_to_status_id</th>\n",
              "      <th>in_reply_to_status_id_str</th>\n",
              "      <th>in_reply_to_user_id</th>\n",
              "      <th>in_reply_to_user_id_str</th>\n",
              "      <th>in_reply_to_screen_name</th>\n",
              "      <th>geo</th>\n",
              "      <th>coordinates</th>\n",
              "      <th>place</th>\n",
              "      <th>contributors</th>\n",
              "      <th>is_quote_status</th>\n",
              "      <th>retweet_count</th>\n",
              "      <th>favorite_count</th>\n",
              "      <th>favorited</th>\n",
              "      <th>retweeted</th>\n",
              "      <th>lang</th>\n",
              "      <th>entities.hashtags</th>\n",
              "      <th>entities.symbols</th>\n",
              "      <th>entities.user_mentions</th>\n",
              "      <th>entities.urls</th>\n",
              "      <th>metadata.iso_language_code</th>\n",
              "      <th>metadata.result_type</th>\n",
              "      <th>user.id</th>\n",
              "      <th>user.id_str</th>\n",
              "      <th>user.name</th>\n",
              "      <th>user.screen_name</th>\n",
              "      <th>user.location</th>\n",
              "      <th>user.description</th>\n",
              "      <th>user.url</th>\n",
              "      <th>user.entities.description.urls</th>\n",
              "      <th>user.protected</th>\n",
              "      <th>user.followers_count</th>\n",
              "      <th>user.friends_count</th>\n",
              "      <th>user.listed_count</th>\n",
              "      <th>user.created_at</th>\n",
              "      <th>...</th>\n",
              "      <th>quoted_status.user.verified</th>\n",
              "      <th>quoted_status.user.statuses_count</th>\n",
              "      <th>quoted_status.user.lang</th>\n",
              "      <th>quoted_status.user.contributors_enabled</th>\n",
              "      <th>quoted_status.user.is_translator</th>\n",
              "      <th>quoted_status.user.is_translation_enabled</th>\n",
              "      <th>quoted_status.user.profile_background_color</th>\n",
              "      <th>quoted_status.user.profile_background_image_url</th>\n",
              "      <th>quoted_status.user.profile_background_image_url_https</th>\n",
              "      <th>quoted_status.user.profile_background_tile</th>\n",
              "      <th>quoted_status.user.profile_image_url</th>\n",
              "      <th>quoted_status.user.profile_image_url_https</th>\n",
              "      <th>quoted_status.user.profile_banner_url</th>\n",
              "      <th>quoted_status.user.profile_link_color</th>\n",
              "      <th>quoted_status.user.profile_sidebar_border_color</th>\n",
              "      <th>quoted_status.user.profile_sidebar_fill_color</th>\n",
              "      <th>quoted_status.user.profile_text_color</th>\n",
              "      <th>quoted_status.user.profile_use_background_image</th>\n",
              "      <th>quoted_status.user.has_extended_profile</th>\n",
              "      <th>quoted_status.user.default_profile</th>\n",
              "      <th>quoted_status.user.default_profile_image</th>\n",
              "      <th>quoted_status.user.following</th>\n",
              "      <th>quoted_status.user.follow_request_sent</th>\n",
              "      <th>quoted_status.user.notifications</th>\n",
              "      <th>quoted_status.user.translator_type</th>\n",
              "      <th>quoted_status.user.withheld_in_countries</th>\n",
              "      <th>quoted_status.geo</th>\n",
              "      <th>quoted_status.coordinates</th>\n",
              "      <th>quoted_status.place</th>\n",
              "      <th>quoted_status.contributors</th>\n",
              "      <th>quoted_status.is_quote_status</th>\n",
              "      <th>quoted_status.retweet_count</th>\n",
              "      <th>quoted_status.favorite_count</th>\n",
              "      <th>quoted_status.favorited</th>\n",
              "      <th>quoted_status.retweeted</th>\n",
              "      <th>quoted_status.lang</th>\n",
              "      <th>retweeted_status.entities.media</th>\n",
              "      <th>retweeted_status.extended_entities.media</th>\n",
              "      <th>entities.media</th>\n",
              "      <th>extended_entities.media</th>\n",
              "    </tr>\n",
              "  </thead>\n",
              "  <tbody>\n",
              "    <tr>\n",
              "      <th>0</th>\n",
              "      <td>Thu Dec 02 16:59:50 +0000 2021</td>\n",
              "      <td>1466452055636201474</td>\n",
              "      <td>1466452055636201474</td>\n",
              "      <td>RT @JackPosobiec: BREAKING: Epstein Victim Tak...</td>\n",
              "      <td>False</td>\n",
              "      <td>&lt;a href=\"https://mobile.twitter.com\" rel=\"nofo...</td>\n",
              "      <td>NaN</td>\n",
              "      <td>None</td>\n",
              "      <td>NaN</td>\n",
              "      <td>None</td>\n",
              "      <td>None</td>\n",
              "      <td>None</td>\n",
              "      <td>None</td>\n",
              "      <td>NaN</td>\n",
              "      <td>None</td>\n",
              "      <td>False</td>\n",
              "      <td>184</td>\n",
              "      <td>0</td>\n",
              "      <td>False</td>\n",
              "      <td>False</td>\n",
              "      <td>en</td>\n",
              "      <td>[]</td>\n",
              "      <td>[]</td>\n",
              "      <td>[{'screen_name': 'JackPosobiec', 'name': 'Jack...</td>\n",
              "      <td>[]</td>\n",
              "      <td>en</td>\n",
              "      <td>recent</td>\n",
              "      <td>1443545649308393473</td>\n",
              "      <td>1443545649308393473</td>\n",
              "      <td>Greens and Flowers</td>\n",
              "      <td>TruthSniffercom</td>\n",
              "      <td>Georgia</td>\n",
              "      <td>Moringa harvest 2021 +50 first year</td>\n",
              "      <td>None</td>\n",
              "      <td>[]</td>\n",
              "      <td>False</td>\n",
              "      <td>2</td>\n",
              "      <td>55</td>\n",
              "      <td>0</td>\n",
              "      <td>Thu Sep 30 11:58:21 +0000 2021</td>\n",
              "      <td>...</td>\n",
              "      <td>NaN</td>\n",
              "      <td>NaN</td>\n",
              "      <td>NaN</td>\n",
              "      <td>NaN</td>\n",
              "      <td>NaN</td>\n",
              "      <td>NaN</td>\n",
              "      <td>NaN</td>\n",
              "      <td>NaN</td>\n",
              "      <td>NaN</td>\n",
              "      <td>NaN</td>\n",
              "      <td>NaN</td>\n",
              "      <td>NaN</td>\n",
              "      <td>NaN</td>\n",
              "      <td>NaN</td>\n",
              "      <td>NaN</td>\n",
              "      <td>NaN</td>\n",
              "      <td>NaN</td>\n",
              "      <td>NaN</td>\n",
              "      <td>NaN</td>\n",
              "      <td>NaN</td>\n",
              "      <td>NaN</td>\n",
              "      <td>NaN</td>\n",
              "      <td>NaN</td>\n",
              "      <td>NaN</td>\n",
              "      <td>NaN</td>\n",
              "      <td>NaN</td>\n",
              "      <td>NaN</td>\n",
              "      <td>NaN</td>\n",
              "      <td>NaN</td>\n",
              "      <td>NaN</td>\n",
              "      <td>NaN</td>\n",
              "      <td>NaN</td>\n",
              "      <td>NaN</td>\n",
              "      <td>NaN</td>\n",
              "      <td>NaN</td>\n",
              "      <td>NaN</td>\n",
              "      <td>NaN</td>\n",
              "      <td>NaN</td>\n",
              "      <td>NaN</td>\n",
              "      <td>NaN</td>\n",
              "    </tr>\n",
              "    <tr>\n",
              "      <th>1</th>\n",
              "      <td>Thu Dec 02 16:59:48 +0000 2021</td>\n",
              "      <td>1466452049172697090</td>\n",
              "      <td>1466452049172697090</td>\n",
              "      <td>Reactions to the Kyle Rittenhouse not guilty v...</td>\n",
              "      <td>False</td>\n",
              "      <td>&lt;a href=\"http://publicize.wp.com/\" rel=\"nofoll...</td>\n",
              "      <td>NaN</td>\n",
              "      <td>None</td>\n",
              "      <td>NaN</td>\n",
              "      <td>None</td>\n",
              "      <td>None</td>\n",
              "      <td>None</td>\n",
              "      <td>None</td>\n",
              "      <td>NaN</td>\n",
              "      <td>None</td>\n",
              "      <td>False</td>\n",
              "      <td>0</td>\n",
              "      <td>0</td>\n",
              "      <td>False</td>\n",
              "      <td>False</td>\n",
              "      <td>en</td>\n",
              "      <td>[]</td>\n",
              "      <td>[]</td>\n",
              "      <td>[]</td>\n",
              "      <td>[{'url': 'https://t.co/jBOGZHGO2e', 'expanded_...</td>\n",
              "      <td>en</td>\n",
              "      <td>recent</td>\n",
              "      <td>49404200</td>\n",
              "      <td>49404200</td>\n",
              "      <td>Charles Myrick -CEO</td>\n",
              "      <td>medicinehelp</td>\n",
              "      <td>Atlanta,GA</td>\n",
              "      <td>American Consultants Rx is focused on helping ...</td>\n",
              "      <td>https://t.co/IEWbNbyI7E</td>\n",
              "      <td>[]</td>\n",
              "      <td>False</td>\n",
              "      <td>1348</td>\n",
              "      <td>1848</td>\n",
              "      <td>54</td>\n",
              "      <td>Sun Jun 21 19:35:30 +0000 2009</td>\n",
              "      <td>...</td>\n",
              "      <td>NaN</td>\n",
              "      <td>NaN</td>\n",
              "      <td>NaN</td>\n",
              "      <td>NaN</td>\n",
              "      <td>NaN</td>\n",
              "      <td>NaN</td>\n",
              "      <td>NaN</td>\n",
              "      <td>NaN</td>\n",
              "      <td>NaN</td>\n",
              "      <td>NaN</td>\n",
              "      <td>NaN</td>\n",
              "      <td>NaN</td>\n",
              "      <td>NaN</td>\n",
              "      <td>NaN</td>\n",
              "      <td>NaN</td>\n",
              "      <td>NaN</td>\n",
              "      <td>NaN</td>\n",
              "      <td>NaN</td>\n",
              "      <td>NaN</td>\n",
              "      <td>NaN</td>\n",
              "      <td>NaN</td>\n",
              "      <td>NaN</td>\n",
              "      <td>NaN</td>\n",
              "      <td>NaN</td>\n",
              "      <td>NaN</td>\n",
              "      <td>NaN</td>\n",
              "      <td>NaN</td>\n",
              "      <td>NaN</td>\n",
              "      <td>NaN</td>\n",
              "      <td>NaN</td>\n",
              "      <td>NaN</td>\n",
              "      <td>NaN</td>\n",
              "      <td>NaN</td>\n",
              "      <td>NaN</td>\n",
              "      <td>NaN</td>\n",
              "      <td>NaN</td>\n",
              "      <td>NaN</td>\n",
              "      <td>NaN</td>\n",
              "      <td>NaN</td>\n",
              "      <td>NaN</td>\n",
              "    </tr>\n",
              "    <tr>\n",
              "      <th>2</th>\n",
              "      <td>Thu Dec 02 16:59:46 +0000 2021</td>\n",
              "      <td>1466452041195134977</td>\n",
              "      <td>1466452041195134977</td>\n",
              "      <td>RT @JonathanTurley: During the trial, NBC rele...</td>\n",
              "      <td>False</td>\n",
              "      <td>&lt;a href=\"http://twitter.com/download/iphone\" r...</td>\n",
              "      <td>NaN</td>\n",
              "      <td>None</td>\n",
              "      <td>NaN</td>\n",
              "      <td>None</td>\n",
              "      <td>None</td>\n",
              "      <td>None</td>\n",
              "      <td>None</td>\n",
              "      <td>NaN</td>\n",
              "      <td>None</td>\n",
              "      <td>False</td>\n",
              "      <td>640</td>\n",
              "      <td>0</td>\n",
              "      <td>False</td>\n",
              "      <td>False</td>\n",
              "      <td>en</td>\n",
              "      <td>[]</td>\n",
              "      <td>[]</td>\n",
              "      <td>[{'screen_name': 'JonathanTurley', 'name': 'Jo...</td>\n",
              "      <td>[]</td>\n",
              "      <td>en</td>\n",
              "      <td>recent</td>\n",
              "      <td>221876632</td>\n",
              "      <td>221876632</td>\n",
              "      <td>Lori Guiver</td>\n",
              "      <td>Oh4aHyphensSake</td>\n",
              "      <td></td>\n",
              "      <td>I've never seen, heard, nor smelled an issue t...</td>\n",
              "      <td>None</td>\n",
              "      <td>[]</td>\n",
              "      <td>False</td>\n",
              "      <td>253</td>\n",
              "      <td>712</td>\n",
              "      <td>9</td>\n",
              "      <td>Wed Dec 01 21:27:23 +0000 2010</td>\n",
              "      <td>...</td>\n",
              "      <td>NaN</td>\n",
              "      <td>NaN</td>\n",
              "      <td>NaN</td>\n",
              "      <td>NaN</td>\n",
              "      <td>NaN</td>\n",
              "      <td>NaN</td>\n",
              "      <td>NaN</td>\n",
              "      <td>NaN</td>\n",
              "      <td>NaN</td>\n",
              "      <td>NaN</td>\n",
              "      <td>NaN</td>\n",
              "      <td>NaN</td>\n",
              "      <td>NaN</td>\n",
              "      <td>NaN</td>\n",
              "      <td>NaN</td>\n",
              "      <td>NaN</td>\n",
              "      <td>NaN</td>\n",
              "      <td>NaN</td>\n",
              "      <td>NaN</td>\n",
              "      <td>NaN</td>\n",
              "      <td>NaN</td>\n",
              "      <td>NaN</td>\n",
              "      <td>NaN</td>\n",
              "      <td>NaN</td>\n",
              "      <td>NaN</td>\n",
              "      <td>NaN</td>\n",
              "      <td>NaN</td>\n",
              "      <td>NaN</td>\n",
              "      <td>NaN</td>\n",
              "      <td>NaN</td>\n",
              "      <td>NaN</td>\n",
              "      <td>NaN</td>\n",
              "      <td>NaN</td>\n",
              "      <td>NaN</td>\n",
              "      <td>NaN</td>\n",
              "      <td>NaN</td>\n",
              "      <td>NaN</td>\n",
              "      <td>NaN</td>\n",
              "      <td>NaN</td>\n",
              "      <td>NaN</td>\n",
              "    </tr>\n",
              "    <tr>\n",
              "      <th>3</th>\n",
              "      <td>Thu Dec 02 16:59:46 +0000 2021</td>\n",
              "      <td>1466452041136586761</td>\n",
              "      <td>1466452041136586761</td>\n",
              "      <td>RT @ericgarland: Mark Zuckerberg allows Kyle R...</td>\n",
              "      <td>False</td>\n",
              "      <td>&lt;a href=\"http://twitter.com/download/android\" ...</td>\n",
              "      <td>NaN</td>\n",
              "      <td>None</td>\n",
              "      <td>NaN</td>\n",
              "      <td>None</td>\n",
              "      <td>None</td>\n",
              "      <td>None</td>\n",
              "      <td>None</td>\n",
              "      <td>NaN</td>\n",
              "      <td>None</td>\n",
              "      <td>False</td>\n",
              "      <td>82</td>\n",
              "      <td>0</td>\n",
              "      <td>False</td>\n",
              "      <td>False</td>\n",
              "      <td>en</td>\n",
              "      <td>[]</td>\n",
              "      <td>[]</td>\n",
              "      <td>[{'screen_name': 'ericgarland', 'name': 'Eric ...</td>\n",
              "      <td>[{'url': 'https://t.co/EUDj2DGvcw', 'expanded_...</td>\n",
              "      <td>en</td>\n",
              "      <td>recent</td>\n",
              "      <td>2308769400</td>\n",
              "      <td>2308769400</td>\n",
              "      <td>M Herzog</td>\n",
              "      <td>IndieEditorMo</td>\n",
              "      <td></td>\n",
              "      <td></td>\n",
              "      <td>None</td>\n",
              "      <td>[]</td>\n",
              "      <td>False</td>\n",
              "      <td>36</td>\n",
              "      <td>199</td>\n",
              "      <td>1</td>\n",
              "      <td>Fri Jan 24 18:21:33 +0000 2014</td>\n",
              "      <td>...</td>\n",
              "      <td>NaN</td>\n",
              "      <td>NaN</td>\n",
              "      <td>NaN</td>\n",
              "      <td>NaN</td>\n",
              "      <td>NaN</td>\n",
              "      <td>NaN</td>\n",
              "      <td>NaN</td>\n",
              "      <td>NaN</td>\n",
              "      <td>NaN</td>\n",
              "      <td>NaN</td>\n",
              "      <td>NaN</td>\n",
              "      <td>NaN</td>\n",
              "      <td>NaN</td>\n",
              "      <td>NaN</td>\n",
              "      <td>NaN</td>\n",
              "      <td>NaN</td>\n",
              "      <td>NaN</td>\n",
              "      <td>NaN</td>\n",
              "      <td>NaN</td>\n",
              "      <td>NaN</td>\n",
              "      <td>NaN</td>\n",
              "      <td>NaN</td>\n",
              "      <td>NaN</td>\n",
              "      <td>NaN</td>\n",
              "      <td>NaN</td>\n",
              "      <td>NaN</td>\n",
              "      <td>NaN</td>\n",
              "      <td>NaN</td>\n",
              "      <td>NaN</td>\n",
              "      <td>NaN</td>\n",
              "      <td>NaN</td>\n",
              "      <td>NaN</td>\n",
              "      <td>NaN</td>\n",
              "      <td>NaN</td>\n",
              "      <td>NaN</td>\n",
              "      <td>NaN</td>\n",
              "      <td>NaN</td>\n",
              "      <td>NaN</td>\n",
              "      <td>NaN</td>\n",
              "      <td>NaN</td>\n",
              "    </tr>\n",
              "    <tr>\n",
              "      <th>4</th>\n",
              "      <td>Thu Dec 02 16:59:43 +0000 2021</td>\n",
              "      <td>1466452030000488448</td>\n",
              "      <td>1466452030000488448</td>\n",
              "      <td>RT @ericgarland: Mark Zuckerberg allows Kyle R...</td>\n",
              "      <td>False</td>\n",
              "      <td>&lt;a href=\"http://twitter.com/download/iphone\" r...</td>\n",
              "      <td>NaN</td>\n",
              "      <td>None</td>\n",
              "      <td>NaN</td>\n",
              "      <td>None</td>\n",
              "      <td>None</td>\n",
              "      <td>None</td>\n",
              "      <td>None</td>\n",
              "      <td>NaN</td>\n",
              "      <td>None</td>\n",
              "      <td>False</td>\n",
              "      <td>81</td>\n",
              "      <td>0</td>\n",
              "      <td>False</td>\n",
              "      <td>False</td>\n",
              "      <td>en</td>\n",
              "      <td>[]</td>\n",
              "      <td>[]</td>\n",
              "      <td>[{'screen_name': 'ericgarland', 'name': 'Eric ...</td>\n",
              "      <td>[{'url': 'https://t.co/EUDj2DGvcw', 'expanded_...</td>\n",
              "      <td>en</td>\n",
              "      <td>recent</td>\n",
              "      <td>1226672774</td>\n",
              "      <td>1226672774</td>\n",
              "      <td>Jdubs WOKE AF ✍️💪🌊</td>\n",
              "      <td>JdubsWoke</td>\n",
              "      <td></td>\n",
              "      <td>Biden 2020, Mother, Wife, Democrat, The Resist...</td>\n",
              "      <td>None</td>\n",
              "      <td>[]</td>\n",
              "      <td>False</td>\n",
              "      <td>3415</td>\n",
              "      <td>4248</td>\n",
              "      <td>0</td>\n",
              "      <td>Thu Feb 28 04:26:11 +0000 2013</td>\n",
              "      <td>...</td>\n",
              "      <td>NaN</td>\n",
              "      <td>NaN</td>\n",
              "      <td>NaN</td>\n",
              "      <td>NaN</td>\n",
              "      <td>NaN</td>\n",
              "      <td>NaN</td>\n",
              "      <td>NaN</td>\n",
              "      <td>NaN</td>\n",
              "      <td>NaN</td>\n",
              "      <td>NaN</td>\n",
              "      <td>NaN</td>\n",
              "      <td>NaN</td>\n",
              "      <td>NaN</td>\n",
              "      <td>NaN</td>\n",
              "      <td>NaN</td>\n",
              "      <td>NaN</td>\n",
              "      <td>NaN</td>\n",
              "      <td>NaN</td>\n",
              "      <td>NaN</td>\n",
              "      <td>NaN</td>\n",
              "      <td>NaN</td>\n",
              "      <td>NaN</td>\n",
              "      <td>NaN</td>\n",
              "      <td>NaN</td>\n",
              "      <td>NaN</td>\n",
              "      <td>NaN</td>\n",
              "      <td>NaN</td>\n",
              "      <td>NaN</td>\n",
              "      <td>NaN</td>\n",
              "      <td>NaN</td>\n",
              "      <td>NaN</td>\n",
              "      <td>NaN</td>\n",
              "      <td>NaN</td>\n",
              "      <td>NaN</td>\n",
              "      <td>NaN</td>\n",
              "      <td>NaN</td>\n",
              "      <td>NaN</td>\n",
              "      <td>NaN</td>\n",
              "      <td>NaN</td>\n",
              "      <td>NaN</td>\n",
              "    </tr>\n",
              "  </tbody>\n",
              "</table>\n",
              "<p>5 rows × 230 columns</p>\n",
              "</div>"
            ],
            "text/plain": [
              "                       created_at  ...  extended_entities.media\n",
              "0  Thu Dec 02 16:59:50 +0000 2021  ...                      NaN\n",
              "1  Thu Dec 02 16:59:48 +0000 2021  ...                      NaN\n",
              "2  Thu Dec 02 16:59:46 +0000 2021  ...                      NaN\n",
              "3  Thu Dec 02 16:59:46 +0000 2021  ...                      NaN\n",
              "4  Thu Dec 02 16:59:43 +0000 2021  ...                      NaN\n",
              "\n",
              "[5 rows x 230 columns]"
            ]
          },
          "metadata": {},
          "execution_count": 137
        }
      ]
    },
    {
      "cell_type": "markdown",
      "metadata": {
        "id": "IquxAbS7vFFp"
      },
      "source": [
        ""
      ]
    },
    {
      "cell_type": "code",
      "metadata": {
        "colab": {
          "base_uri": "https://localhost:8080/"
        },
        "id": "tCM44YhWvFLm",
        "outputId": "2e3736a8-40af-4ecf-f934-c52e4f735b9f"
      },
      "source": [
        "Twitterdf.info()"
      ],
      "execution_count": 138,
      "outputs": [
        {
          "output_type": "stream",
          "name": "stdout",
          "text": [
            "<class 'pandas.core.frame.DataFrame'>\n",
            "RangeIndex: 100 entries, 0 to 99\n",
            "Columns: 230 entries, created_at to extended_entities.media\n",
            "dtypes: bool(18), float64(46), int64(9), object(157)\n",
            "memory usage: 167.5+ KB\n"
          ]
        }
      ]
    },
    {
      "cell_type": "markdown",
      "metadata": {
        "id": "uHN4ikchd1zp"
      },
      "source": [
        ""
      ]
    },
    {
      "cell_type": "code",
      "metadata": {
        "colab": {
          "base_uri": "https://localhost:8080/"
        },
        "id": "AHdNmRIJd17o",
        "outputId": "f5f39f61-af50-4349-d788-cdea0093e490"
      },
      "source": [
        "#Install dfply for dplyr like functionality in Python\n",
        "!pip install dfply\n",
        "from dfply import *"
      ],
      "execution_count": 139,
      "outputs": [
        {
          "output_type": "stream",
          "name": "stdout",
          "text": [
            "Requirement already satisfied: dfply in /usr/local/lib/python3.7/dist-packages (0.3.3)\n",
            "Requirement already satisfied: numpy in /usr/local/lib/python3.7/dist-packages (from dfply) (1.19.5)\n",
            "Requirement already satisfied: pandas in /usr/local/lib/python3.7/dist-packages (from dfply) (1.1.5)\n",
            "Requirement already satisfied: pytz>=2017.2 in /usr/local/lib/python3.7/dist-packages (from pandas->dfply) (2018.9)\n",
            "Requirement already satisfied: python-dateutil>=2.7.3 in /usr/local/lib/python3.7/dist-packages (from pandas->dfply) (2.8.2)\n",
            "Requirement already satisfied: six>=1.5 in /usr/local/lib/python3.7/dist-packages (from python-dateutil>=2.7.3->pandas->dfply) (1.15.0)\n"
          ]
        }
      ]
    },
    {
      "cell_type": "markdown",
      "metadata": {
        "id": "sLlqEJ1aeJKD"
      },
      "source": [
        ""
      ]
    },
    {
      "cell_type": "code",
      "metadata": {
        "colab": {
          "base_uri": "https://localhost:8080/",
          "height": 206
        },
        "id": "aaYS5orteJbI",
        "outputId": "ef692ac5-2675-4271-8335-4e8d54a29596"
      },
      "source": [
        "#Piping in dfply and using filter_by() to grab requested rows.\n",
        "Twitterdf_Reduced = ( Twitterdf\n",
        "              >> select(X.created_at, X.id, X.text, X.retweet_count, X.favorite_count, X.possibly_sensitive)\n",
        "              \n",
        "            )\n",
        "Twitterdf_Reduced.shape\n",
        "Twitterdf_Reduced.head()"
      ],
      "execution_count": 140,
      "outputs": [
        {
          "output_type": "execute_result",
          "data": {
            "text/html": [
              "<div>\n",
              "<style scoped>\n",
              "    .dataframe tbody tr th:only-of-type {\n",
              "        vertical-align: middle;\n",
              "    }\n",
              "\n",
              "    .dataframe tbody tr th {\n",
              "        vertical-align: top;\n",
              "    }\n",
              "\n",
              "    .dataframe thead th {\n",
              "        text-align: right;\n",
              "    }\n",
              "</style>\n",
              "<table border=\"1\" class=\"dataframe\">\n",
              "  <thead>\n",
              "    <tr style=\"text-align: right;\">\n",
              "      <th></th>\n",
              "      <th>created_at</th>\n",
              "      <th>id</th>\n",
              "      <th>text</th>\n",
              "      <th>retweet_count</th>\n",
              "      <th>favorite_count</th>\n",
              "      <th>possibly_sensitive</th>\n",
              "    </tr>\n",
              "  </thead>\n",
              "  <tbody>\n",
              "    <tr>\n",
              "      <th>0</th>\n",
              "      <td>Thu Dec 02 16:59:50 +0000 2021</td>\n",
              "      <td>1466452055636201474</td>\n",
              "      <td>RT @JackPosobiec: BREAKING: Epstein Victim Tak...</td>\n",
              "      <td>184</td>\n",
              "      <td>0</td>\n",
              "      <td>NaN</td>\n",
              "    </tr>\n",
              "    <tr>\n",
              "      <th>1</th>\n",
              "      <td>Thu Dec 02 16:59:48 +0000 2021</td>\n",
              "      <td>1466452049172697090</td>\n",
              "      <td>Reactions to the Kyle Rittenhouse not guilty v...</td>\n",
              "      <td>0</td>\n",
              "      <td>0</td>\n",
              "      <td>False</td>\n",
              "    </tr>\n",
              "    <tr>\n",
              "      <th>2</th>\n",
              "      <td>Thu Dec 02 16:59:46 +0000 2021</td>\n",
              "      <td>1466452041195134977</td>\n",
              "      <td>RT @JonathanTurley: During the trial, NBC rele...</td>\n",
              "      <td>640</td>\n",
              "      <td>0</td>\n",
              "      <td>False</td>\n",
              "    </tr>\n",
              "    <tr>\n",
              "      <th>3</th>\n",
              "      <td>Thu Dec 02 16:59:46 +0000 2021</td>\n",
              "      <td>1466452041136586761</td>\n",
              "      <td>RT @ericgarland: Mark Zuckerberg allows Kyle R...</td>\n",
              "      <td>82</td>\n",
              "      <td>0</td>\n",
              "      <td>False</td>\n",
              "    </tr>\n",
              "    <tr>\n",
              "      <th>4</th>\n",
              "      <td>Thu Dec 02 16:59:43 +0000 2021</td>\n",
              "      <td>1466452030000488448</td>\n",
              "      <td>RT @ericgarland: Mark Zuckerberg allows Kyle R...</td>\n",
              "      <td>81</td>\n",
              "      <td>0</td>\n",
              "      <td>False</td>\n",
              "    </tr>\n",
              "  </tbody>\n",
              "</table>\n",
              "</div>"
            ],
            "text/plain": [
              "                       created_at  ...  possibly_sensitive\n",
              "0  Thu Dec 02 16:59:50 +0000 2021  ...                 NaN\n",
              "1  Thu Dec 02 16:59:48 +0000 2021  ...               False\n",
              "2  Thu Dec 02 16:59:46 +0000 2021  ...               False\n",
              "3  Thu Dec 02 16:59:46 +0000 2021  ...               False\n",
              "4  Thu Dec 02 16:59:43 +0000 2021  ...               False\n",
              "\n",
              "[5 rows x 6 columns]"
            ]
          },
          "metadata": {},
          "execution_count": 140
        }
      ]
    },
    {
      "cell_type": "markdown",
      "metadata": {
        "id": "zGSzlF10dleh"
      },
      "source": [
        ""
      ]
    },
    {
      "cell_type": "code",
      "metadata": {
        "colab": {
          "base_uri": "https://localhost:8080/"
        },
        "id": "h5KXZdGydlk3",
        "outputId": "7fd65729-5d69-4937-9926-b18dc6cf602b"
      },
      "source": [
        "print(Twitterdf_Reduced.iloc[0]['text'])\n",
        "\n",
        "print('\\n')\n",
        "print(Twitterdf_Reduced.iloc[1]['text'])\n",
        "\n",
        "print('\\n')\n",
        "print(Twitterdf_Reduced.iloc[2]['text'])\n",
        "\n"
      ],
      "execution_count": 141,
      "outputs": [
        {
          "output_type": "stream",
          "name": "stdout",
          "text": [
            "RT @JackPosobiec: BREAKING: Epstein Victim Takes Stand in Ghislaine Maxwell Trial\n",
            "\n",
            "Supreme Court Official Takes Up Roe v Wade Case \n",
            "\n",
            "Kyle R…\n",
            "\n",
            "\n",
            "Reactions to the Kyle Rittenhouse not guilty verdict | Nightline https://t.co/jBOGZHGO2e\n",
            "\n",
            "\n",
            "RT @JonathanTurley: During the trial, NBC released a statement that some of us found vague and misleading. Now a police video confirms that…\n"
          ]
        }
      ]
    },
    {
      "cell_type": "markdown",
      "metadata": {
        "id": "AA8YJ-cV0mvZ"
      },
      "source": [
        "## Getting rid twitter specific content"
      ]
    },
    {
      "cell_type": "code",
      "metadata": {
        "id": "3g7uMWnS0m33"
      },
      "source": [
        "import re as re\n",
        "\n",
        "# Define a function to clean the text\n",
        "def clean_twittertext(text):\n",
        "    # Removes #, @, and https:// and http:// from twitter text\n",
        "    text = re.sub(r'#\\w+', '', str(text))  # remove hashtags\n",
        "    text = re.sub(r'@\\w+', '', str(text))  # remove hashtags\n",
        "    text = re.sub(r'http[s]?://\\S+', '', str(text))  # remove hashtags\n",
        "    return text\n"
      ],
      "execution_count": 142,
      "outputs": []
    },
    {
      "cell_type": "code",
      "metadata": {
        "colab": {
          "base_uri": "https://localhost:8080/",
          "height": 206
        },
        "id": "5uN-C-B6dGNR",
        "outputId": "a07617b7-2a40-49ff-9331-5087481a5feb"
      },
      "source": [
        "# Removing the unnecessary twitter content\n",
        "Twitterdf_Reduced['CleanedTwitter'] = Twitterdf_Reduced['text'].apply(clean_twittertext)\n",
        "Twitterdf_Reduced.head()"
      ],
      "execution_count": 143,
      "outputs": [
        {
          "output_type": "execute_result",
          "data": {
            "text/html": [
              "<div>\n",
              "<style scoped>\n",
              "    .dataframe tbody tr th:only-of-type {\n",
              "        vertical-align: middle;\n",
              "    }\n",
              "\n",
              "    .dataframe tbody tr th {\n",
              "        vertical-align: top;\n",
              "    }\n",
              "\n",
              "    .dataframe thead th {\n",
              "        text-align: right;\n",
              "    }\n",
              "</style>\n",
              "<table border=\"1\" class=\"dataframe\">\n",
              "  <thead>\n",
              "    <tr style=\"text-align: right;\">\n",
              "      <th></th>\n",
              "      <th>created_at</th>\n",
              "      <th>id</th>\n",
              "      <th>text</th>\n",
              "      <th>retweet_count</th>\n",
              "      <th>favorite_count</th>\n",
              "      <th>possibly_sensitive</th>\n",
              "      <th>CleanedTwitter</th>\n",
              "    </tr>\n",
              "  </thead>\n",
              "  <tbody>\n",
              "    <tr>\n",
              "      <th>0</th>\n",
              "      <td>Thu Dec 02 16:59:50 +0000 2021</td>\n",
              "      <td>1466452055636201474</td>\n",
              "      <td>RT @JackPosobiec: BREAKING: Epstein Victim Tak...</td>\n",
              "      <td>184</td>\n",
              "      <td>0</td>\n",
              "      <td>NaN</td>\n",
              "      <td>RT : BREAKING: Epstein Victim Takes Stand in G...</td>\n",
              "    </tr>\n",
              "    <tr>\n",
              "      <th>1</th>\n",
              "      <td>Thu Dec 02 16:59:48 +0000 2021</td>\n",
              "      <td>1466452049172697090</td>\n",
              "      <td>Reactions to the Kyle Rittenhouse not guilty v...</td>\n",
              "      <td>0</td>\n",
              "      <td>0</td>\n",
              "      <td>False</td>\n",
              "      <td>Reactions to the Kyle Rittenhouse not guilty v...</td>\n",
              "    </tr>\n",
              "    <tr>\n",
              "      <th>2</th>\n",
              "      <td>Thu Dec 02 16:59:46 +0000 2021</td>\n",
              "      <td>1466452041195134977</td>\n",
              "      <td>RT @JonathanTurley: During the trial, NBC rele...</td>\n",
              "      <td>640</td>\n",
              "      <td>0</td>\n",
              "      <td>False</td>\n",
              "      <td>RT : During the trial, NBC released a statemen...</td>\n",
              "    </tr>\n",
              "    <tr>\n",
              "      <th>3</th>\n",
              "      <td>Thu Dec 02 16:59:46 +0000 2021</td>\n",
              "      <td>1466452041136586761</td>\n",
              "      <td>RT @ericgarland: Mark Zuckerberg allows Kyle R...</td>\n",
              "      <td>82</td>\n",
              "      <td>0</td>\n",
              "      <td>False</td>\n",
              "      <td>RT : Mark Zuckerberg allows Kyle Rittenhouse b...</td>\n",
              "    </tr>\n",
              "    <tr>\n",
              "      <th>4</th>\n",
              "      <td>Thu Dec 02 16:59:43 +0000 2021</td>\n",
              "      <td>1466452030000488448</td>\n",
              "      <td>RT @ericgarland: Mark Zuckerberg allows Kyle R...</td>\n",
              "      <td>81</td>\n",
              "      <td>0</td>\n",
              "      <td>False</td>\n",
              "      <td>RT : Mark Zuckerberg allows Kyle Rittenhouse b...</td>\n",
              "    </tr>\n",
              "  </tbody>\n",
              "</table>\n",
              "</div>"
            ],
            "text/plain": [
              "                       created_at  ...                                     CleanedTwitter\n",
              "0  Thu Dec 02 16:59:50 +0000 2021  ...  RT : BREAKING: Epstein Victim Takes Stand in G...\n",
              "1  Thu Dec 02 16:59:48 +0000 2021  ...  Reactions to the Kyle Rittenhouse not guilty v...\n",
              "2  Thu Dec 02 16:59:46 +0000 2021  ...  RT : During the trial, NBC released a statemen...\n",
              "3  Thu Dec 02 16:59:46 +0000 2021  ...  RT : Mark Zuckerberg allows Kyle Rittenhouse b...\n",
              "4  Thu Dec 02 16:59:43 +0000 2021  ...  RT : Mark Zuckerberg allows Kyle Rittenhouse b...\n",
              "\n",
              "[5 rows x 7 columns]"
            ]
          },
          "metadata": {},
          "execution_count": 143
        }
      ]
    },
    {
      "cell_type": "markdown",
      "metadata": {
        "id": "gRbNFHBVRYGQ"
      },
      "source": [
        "Comparing a cleaned review against it's original."
      ]
    },
    {
      "cell_type": "code",
      "metadata": {
        "colab": {
          "base_uri": "https://localhost:8080/"
        },
        "id": "fs8gDW_hRYNW",
        "outputId": "eacf5807-2ad7-4770-c96c-d599963b5167"
      },
      "source": [
        "print(Twitterdf_Reduced.iloc[0]['text'])\n",
        "print(Twitterdf_Reduced.iloc[0]['CleanedTwitter'])\n",
        "print('\\n')\n",
        "print(Twitterdf_Reduced.iloc[1]['text'])\n",
        "print(Twitterdf_Reduced.iloc[1]['CleanedTwitter'])\n",
        "print('\\n')\n",
        "print(Twitterdf_Reduced.iloc[2]['text'])\n",
        "print(Twitterdf_Reduced.iloc[2]['CleanedTwitter'])"
      ],
      "execution_count": 144,
      "outputs": [
        {
          "output_type": "stream",
          "name": "stdout",
          "text": [
            "RT @JackPosobiec: BREAKING: Epstein Victim Takes Stand in Ghislaine Maxwell Trial\n",
            "\n",
            "Supreme Court Official Takes Up Roe v Wade Case \n",
            "\n",
            "Kyle R…\n",
            "RT : BREAKING: Epstein Victim Takes Stand in Ghislaine Maxwell Trial\n",
            "\n",
            "Supreme Court Official Takes Up Roe v Wade Case \n",
            "\n",
            "Kyle R…\n",
            "\n",
            "\n",
            "Reactions to the Kyle Rittenhouse not guilty verdict | Nightline https://t.co/jBOGZHGO2e\n",
            "Reactions to the Kyle Rittenhouse not guilty verdict | Nightline \n",
            "\n",
            "\n",
            "RT @JonathanTurley: During the trial, NBC released a statement that some of us found vague and misleading. Now a police video confirms that…\n",
            "RT : During the trial, NBC released a statement that some of us found vague and misleading. Now a police video confirms that…\n"
          ]
        }
      ]
    },
    {
      "cell_type": "markdown",
      "metadata": {
        "id": "giCiA1samMdt"
      },
      "source": [
        ""
      ]
    },
    {
      "cell_type": "code",
      "metadata": {
        "id": "FaTL8uukmMkl"
      },
      "source": [
        "# Define a function to clean the text\n",
        "def clean(text):\n",
        "    # Removes all special characters and numericals leaving the alphabets\n",
        "    text = re.sub('[^A-Za-z]+', ' ', str(text)) \n",
        "    return text"
      ],
      "execution_count": 145,
      "outputs": []
    },
    {
      "cell_type": "markdown",
      "metadata": {
        "id": "Gv71jPtHmR4z"
      },
      "source": [
        ""
      ]
    },
    {
      "cell_type": "code",
      "metadata": {
        "colab": {
          "base_uri": "https://localhost:8080/",
          "height": 293
        },
        "id": "IC_l-vJomR_v",
        "outputId": "f71125c2-b6cc-47df-8974-50af09a0e67b"
      },
      "source": [
        "# Removing the non-alphabetic characters\n",
        "Twitterdf_Reduced['CleanedReviews'] = Twitterdf_Reduced['CleanedTwitter'].apply(clean)\n",
        "Twitterdf_Reduced.head()"
      ],
      "execution_count": 146,
      "outputs": [
        {
          "output_type": "execute_result",
          "data": {
            "text/html": [
              "<div>\n",
              "<style scoped>\n",
              "    .dataframe tbody tr th:only-of-type {\n",
              "        vertical-align: middle;\n",
              "    }\n",
              "\n",
              "    .dataframe tbody tr th {\n",
              "        vertical-align: top;\n",
              "    }\n",
              "\n",
              "    .dataframe thead th {\n",
              "        text-align: right;\n",
              "    }\n",
              "</style>\n",
              "<table border=\"1\" class=\"dataframe\">\n",
              "  <thead>\n",
              "    <tr style=\"text-align: right;\">\n",
              "      <th></th>\n",
              "      <th>created_at</th>\n",
              "      <th>id</th>\n",
              "      <th>text</th>\n",
              "      <th>retweet_count</th>\n",
              "      <th>favorite_count</th>\n",
              "      <th>possibly_sensitive</th>\n",
              "      <th>CleanedTwitter</th>\n",
              "      <th>CleanedReviews</th>\n",
              "    </tr>\n",
              "  </thead>\n",
              "  <tbody>\n",
              "    <tr>\n",
              "      <th>0</th>\n",
              "      <td>Thu Dec 02 16:59:50 +0000 2021</td>\n",
              "      <td>1466452055636201474</td>\n",
              "      <td>RT @JackPosobiec: BREAKING: Epstein Victim Tak...</td>\n",
              "      <td>184</td>\n",
              "      <td>0</td>\n",
              "      <td>NaN</td>\n",
              "      <td>RT : BREAKING: Epstein Victim Takes Stand in G...</td>\n",
              "      <td>RT BREAKING Epstein Victim Takes Stand in Ghis...</td>\n",
              "    </tr>\n",
              "    <tr>\n",
              "      <th>1</th>\n",
              "      <td>Thu Dec 02 16:59:48 +0000 2021</td>\n",
              "      <td>1466452049172697090</td>\n",
              "      <td>Reactions to the Kyle Rittenhouse not guilty v...</td>\n",
              "      <td>0</td>\n",
              "      <td>0</td>\n",
              "      <td>False</td>\n",
              "      <td>Reactions to the Kyle Rittenhouse not guilty v...</td>\n",
              "      <td>Reactions to the Kyle Rittenhouse not guilty v...</td>\n",
              "    </tr>\n",
              "    <tr>\n",
              "      <th>2</th>\n",
              "      <td>Thu Dec 02 16:59:46 +0000 2021</td>\n",
              "      <td>1466452041195134977</td>\n",
              "      <td>RT @JonathanTurley: During the trial, NBC rele...</td>\n",
              "      <td>640</td>\n",
              "      <td>0</td>\n",
              "      <td>False</td>\n",
              "      <td>RT : During the trial, NBC released a statemen...</td>\n",
              "      <td>RT During the trial NBC released a statement t...</td>\n",
              "    </tr>\n",
              "    <tr>\n",
              "      <th>3</th>\n",
              "      <td>Thu Dec 02 16:59:46 +0000 2021</td>\n",
              "      <td>1466452041136586761</td>\n",
              "      <td>RT @ericgarland: Mark Zuckerberg allows Kyle R...</td>\n",
              "      <td>82</td>\n",
              "      <td>0</td>\n",
              "      <td>False</td>\n",
              "      <td>RT : Mark Zuckerberg allows Kyle Rittenhouse b...</td>\n",
              "      <td>RT Mark Zuckerberg allows Kyle Rittenhouse bac...</td>\n",
              "    </tr>\n",
              "    <tr>\n",
              "      <th>4</th>\n",
              "      <td>Thu Dec 02 16:59:43 +0000 2021</td>\n",
              "      <td>1466452030000488448</td>\n",
              "      <td>RT @ericgarland: Mark Zuckerberg allows Kyle R...</td>\n",
              "      <td>81</td>\n",
              "      <td>0</td>\n",
              "      <td>False</td>\n",
              "      <td>RT : Mark Zuckerberg allows Kyle Rittenhouse b...</td>\n",
              "      <td>RT Mark Zuckerberg allows Kyle Rittenhouse bac...</td>\n",
              "    </tr>\n",
              "  </tbody>\n",
              "</table>\n",
              "</div>"
            ],
            "text/plain": [
              "                       created_at  ...                                     CleanedReviews\n",
              "0  Thu Dec 02 16:59:50 +0000 2021  ...  RT BREAKING Epstein Victim Takes Stand in Ghis...\n",
              "1  Thu Dec 02 16:59:48 +0000 2021  ...  Reactions to the Kyle Rittenhouse not guilty v...\n",
              "2  Thu Dec 02 16:59:46 +0000 2021  ...  RT During the trial NBC released a statement t...\n",
              "3  Thu Dec 02 16:59:46 +0000 2021  ...  RT Mark Zuckerberg allows Kyle Rittenhouse bac...\n",
              "4  Thu Dec 02 16:59:43 +0000 2021  ...  RT Mark Zuckerberg allows Kyle Rittenhouse bac...\n",
              "\n",
              "[5 rows x 8 columns]"
            ]
          },
          "metadata": {},
          "execution_count": 146
        }
      ]
    },
    {
      "cell_type": "code",
      "metadata": {
        "colab": {
          "base_uri": "https://localhost:8080/"
        },
        "id": "teNxSNRBm9JO",
        "outputId": "aa76752c-e8d4-4f84-c450-2d7ba63c542e"
      },
      "source": [
        "print(Twitterdf_Reduced.iloc[0]['text'])\n",
        "print(Twitterdf_Reduced.iloc[0]['CleanedReviews'])\n",
        "print('\\n')\n",
        "print(Twitterdf_Reduced.iloc[1]['text'])\n",
        "print(Twitterdf_Reduced.iloc[1]['CleanedReviews'])\n",
        "print('\\n')\n",
        "print(Twitterdf_Reduced.iloc[2]['text'])\n",
        "print(Twitterdf_Reduced.iloc[2]['CleanedReviews'])"
      ],
      "execution_count": 147,
      "outputs": [
        {
          "output_type": "stream",
          "name": "stdout",
          "text": [
            "RT @JackPosobiec: BREAKING: Epstein Victim Takes Stand in Ghislaine Maxwell Trial\n",
            "\n",
            "Supreme Court Official Takes Up Roe v Wade Case \n",
            "\n",
            "Kyle R…\n",
            "RT BREAKING Epstein Victim Takes Stand in Ghislaine Maxwell Trial Supreme Court Official Takes Up Roe v Wade Case Kyle R \n",
            "\n",
            "\n",
            "Reactions to the Kyle Rittenhouse not guilty verdict | Nightline https://t.co/jBOGZHGO2e\n",
            "Reactions to the Kyle Rittenhouse not guilty verdict Nightline \n",
            "\n",
            "\n",
            "RT @JonathanTurley: During the trial, NBC released a statement that some of us found vague and misleading. Now a police video confirms that…\n",
            "RT During the trial NBC released a statement that some of us found vague and misleading Now a police video confirms that \n"
          ]
        }
      ]
    },
    {
      "cell_type": "markdown",
      "metadata": {
        "id": "gpGyoLq71Kpo"
      },
      "source": [
        "## Tokenization and Removal of Stopwords"
      ]
    },
    {
      "cell_type": "code",
      "metadata": {
        "colab": {
          "base_uri": "https://localhost:8080/"
        },
        "id": "VRst1sM9ogcl",
        "outputId": "69f9d23f-6cad-4ed5-d09d-3d7d6c206c8e"
      },
      "source": [
        "from nltk.corpus import stopwords\n",
        "nltk.download('stopwords')\n",
        "from nltk.tokenize import word_tokenize\n",
        "\n",
        "def token_stop(text):\n",
        "    text_tokens = word_tokenize(text)\n",
        "    tokens_without_sw = [word for word in text_tokens if not word in stopwords.words()]\n",
        "    filtered_sentence = (\" \").join(tokens_without_sw)\n",
        "    return filtered_sentence\n"
      ],
      "execution_count": 148,
      "outputs": [
        {
          "output_type": "stream",
          "name": "stdout",
          "text": [
            "[nltk_data] Downloading package stopwords to /root/nltk_data...\n",
            "[nltk_data]   Package stopwords is already up-to-date!\n"
          ]
        }
      ]
    },
    {
      "cell_type": "markdown",
      "metadata": {
        "id": "B71kfkJdSQdG"
      },
      "source": [
        "The following code uses the custom token_stop_pos() function defined above.  This custom function tokenizes the text, removes any stop words, and identifies the parts of speech.  The pos dictionary is specified to keep only adjectives, verbs, nouns, and adverbs."
      ]
    },
    {
      "cell_type": "code",
      "metadata": {
        "colab": {
          "base_uri": "https://localhost:8080/",
          "height": 379
        },
        "id": "PxSgWVhJSQjK",
        "outputId": "50aeb8d4-ea0c-4fdb-9964-12757c71a744"
      },
      "source": [
        "Twitterdf_Reduced['CleanedReviews_NoStopWords'] = Twitterdf_Reduced['CleanedReviews'].apply(token_stop)\n",
        "Twitterdf_Reduced.head()"
      ],
      "execution_count": 149,
      "outputs": [
        {
          "output_type": "execute_result",
          "data": {
            "text/html": [
              "<div>\n",
              "<style scoped>\n",
              "    .dataframe tbody tr th:only-of-type {\n",
              "        vertical-align: middle;\n",
              "    }\n",
              "\n",
              "    .dataframe tbody tr th {\n",
              "        vertical-align: top;\n",
              "    }\n",
              "\n",
              "    .dataframe thead th {\n",
              "        text-align: right;\n",
              "    }\n",
              "</style>\n",
              "<table border=\"1\" class=\"dataframe\">\n",
              "  <thead>\n",
              "    <tr style=\"text-align: right;\">\n",
              "      <th></th>\n",
              "      <th>created_at</th>\n",
              "      <th>id</th>\n",
              "      <th>text</th>\n",
              "      <th>retweet_count</th>\n",
              "      <th>favorite_count</th>\n",
              "      <th>possibly_sensitive</th>\n",
              "      <th>CleanedTwitter</th>\n",
              "      <th>CleanedReviews</th>\n",
              "      <th>CleanedReviews_NoStopWords</th>\n",
              "    </tr>\n",
              "  </thead>\n",
              "  <tbody>\n",
              "    <tr>\n",
              "      <th>0</th>\n",
              "      <td>Thu Dec 02 16:59:50 +0000 2021</td>\n",
              "      <td>1466452055636201474</td>\n",
              "      <td>RT @JackPosobiec: BREAKING: Epstein Victim Tak...</td>\n",
              "      <td>184</td>\n",
              "      <td>0</td>\n",
              "      <td>NaN</td>\n",
              "      <td>RT : BREAKING: Epstein Victim Takes Stand in G...</td>\n",
              "      <td>RT BREAKING Epstein Victim Takes Stand in Ghis...</td>\n",
              "      <td>RT BREAKING Epstein Victim Takes Stand Ghislai...</td>\n",
              "    </tr>\n",
              "    <tr>\n",
              "      <th>1</th>\n",
              "      <td>Thu Dec 02 16:59:48 +0000 2021</td>\n",
              "      <td>1466452049172697090</td>\n",
              "      <td>Reactions to the Kyle Rittenhouse not guilty v...</td>\n",
              "      <td>0</td>\n",
              "      <td>0</td>\n",
              "      <td>False</td>\n",
              "      <td>Reactions to the Kyle Rittenhouse not guilty v...</td>\n",
              "      <td>Reactions to the Kyle Rittenhouse not guilty v...</td>\n",
              "      <td>Reactions Kyle Rittenhouse guilty verdict Nigh...</td>\n",
              "    </tr>\n",
              "    <tr>\n",
              "      <th>2</th>\n",
              "      <td>Thu Dec 02 16:59:46 +0000 2021</td>\n",
              "      <td>1466452041195134977</td>\n",
              "      <td>RT @JonathanTurley: During the trial, NBC rele...</td>\n",
              "      <td>640</td>\n",
              "      <td>0</td>\n",
              "      <td>False</td>\n",
              "      <td>RT : During the trial, NBC released a statemen...</td>\n",
              "      <td>RT During the trial NBC released a statement t...</td>\n",
              "      <td>RT During trial NBC released statement us foun...</td>\n",
              "    </tr>\n",
              "    <tr>\n",
              "      <th>3</th>\n",
              "      <td>Thu Dec 02 16:59:46 +0000 2021</td>\n",
              "      <td>1466452041136586761</td>\n",
              "      <td>RT @ericgarland: Mark Zuckerberg allows Kyle R...</td>\n",
              "      <td>82</td>\n",
              "      <td>0</td>\n",
              "      <td>False</td>\n",
              "      <td>RT : Mark Zuckerberg allows Kyle Rittenhouse b...</td>\n",
              "      <td>RT Mark Zuckerberg allows Kyle Rittenhouse bac...</td>\n",
              "      <td>RT Mark Zuckerberg allows Kyle Rittenhouse bac...</td>\n",
              "    </tr>\n",
              "    <tr>\n",
              "      <th>4</th>\n",
              "      <td>Thu Dec 02 16:59:43 +0000 2021</td>\n",
              "      <td>1466452030000488448</td>\n",
              "      <td>RT @ericgarland: Mark Zuckerberg allows Kyle R...</td>\n",
              "      <td>81</td>\n",
              "      <td>0</td>\n",
              "      <td>False</td>\n",
              "      <td>RT : Mark Zuckerberg allows Kyle Rittenhouse b...</td>\n",
              "      <td>RT Mark Zuckerberg allows Kyle Rittenhouse bac...</td>\n",
              "      <td>RT Mark Zuckerberg allows Kyle Rittenhouse bac...</td>\n",
              "    </tr>\n",
              "  </tbody>\n",
              "</table>\n",
              "</div>"
            ],
            "text/plain": [
              "                       created_at  ...                         CleanedReviews_NoStopWords\n",
              "0  Thu Dec 02 16:59:50 +0000 2021  ...  RT BREAKING Epstein Victim Takes Stand Ghislai...\n",
              "1  Thu Dec 02 16:59:48 +0000 2021  ...  Reactions Kyle Rittenhouse guilty verdict Nigh...\n",
              "2  Thu Dec 02 16:59:46 +0000 2021  ...  RT During trial NBC released statement us foun...\n",
              "3  Thu Dec 02 16:59:46 +0000 2021  ...  RT Mark Zuckerberg allows Kyle Rittenhouse bac...\n",
              "4  Thu Dec 02 16:59:43 +0000 2021  ...  RT Mark Zuckerberg allows Kyle Rittenhouse bac...\n",
              "\n",
              "[5 rows x 9 columns]"
            ]
          },
          "metadata": {},
          "execution_count": 149
        }
      ]
    },
    {
      "cell_type": "markdown",
      "metadata": {
        "id": "z23nVI4z2vfy"
      },
      "source": [
        "## Obtain the root of each word"
      ]
    },
    {
      "cell_type": "markdown",
      "metadata": {
        "id": "XvZDG8mXWDBW"
      },
      "source": [
        "<strong>Lemmatization</strong> is the process of converting a word to its base form. An alternative process is <strong>stemming</strong> a word which simply removes the last few characters, e.g. the s from studys would be removed by stemming or the ied from studied would be removed by stemming.  Lemmatization is a more sophicated and considers the context and converts the word to its meaningful base form. Lemmatization tends to lead to more meaningful conversation than stemming. "
      ]
    },
    {
      "cell_type": "markdown",
      "metadata": {
        "id": "FSJvd0ZwXD0B"
      },
      "source": [
        "Once again the natural language toolkit will be used for the lemmitization of our reviews.  The custom lemmatize() function takes the parts of speech list, applies the lemmatization to this list, and then creates a string that contains the base roots of each word."
      ]
    },
    {
      "cell_type": "code",
      "metadata": {
        "id": "allLeU44p_cg"
      },
      "source": [
        "import nltk\n",
        "from nltk.stem import WordNetLemmatizer\n",
        "lemmatizer = WordNetLemmatizer()\n",
        "\n",
        "def lemmatize(text):\n",
        "    word_list = nltk.word_tokenize(text)\n",
        "    lemmatized_output = ' '.join([lemmatizer.lemmatize(w) for w in word_list])\n",
        "    return lemmatized_output\n",
        "   "
      ],
      "execution_count": 150,
      "outputs": []
    },
    {
      "cell_type": "code",
      "metadata": {
        "colab": {
          "base_uri": "https://localhost:8080/",
          "height": 449
        },
        "id": "T1lUs87OqoTQ",
        "outputId": "ef86f587-8bf0-49a8-d917-404ba3f0c6ee"
      },
      "source": [
        "Twitterdf_Reduced['ReviewsFinal'] = Twitterdf_Reduced['CleanedReviews_NoStopWords'].apply(lemmatize)\n",
        "Twitterdf_Reduced.head()"
      ],
      "execution_count": 151,
      "outputs": [
        {
          "output_type": "execute_result",
          "data": {
            "text/html": [
              "<div>\n",
              "<style scoped>\n",
              "    .dataframe tbody tr th:only-of-type {\n",
              "        vertical-align: middle;\n",
              "    }\n",
              "\n",
              "    .dataframe tbody tr th {\n",
              "        vertical-align: top;\n",
              "    }\n",
              "\n",
              "    .dataframe thead th {\n",
              "        text-align: right;\n",
              "    }\n",
              "</style>\n",
              "<table border=\"1\" class=\"dataframe\">\n",
              "  <thead>\n",
              "    <tr style=\"text-align: right;\">\n",
              "      <th></th>\n",
              "      <th>created_at</th>\n",
              "      <th>id</th>\n",
              "      <th>text</th>\n",
              "      <th>retweet_count</th>\n",
              "      <th>favorite_count</th>\n",
              "      <th>possibly_sensitive</th>\n",
              "      <th>CleanedTwitter</th>\n",
              "      <th>CleanedReviews</th>\n",
              "      <th>CleanedReviews_NoStopWords</th>\n",
              "      <th>ReviewsFinal</th>\n",
              "    </tr>\n",
              "  </thead>\n",
              "  <tbody>\n",
              "    <tr>\n",
              "      <th>0</th>\n",
              "      <td>Thu Dec 02 16:59:50 +0000 2021</td>\n",
              "      <td>1466452055636201474</td>\n",
              "      <td>RT @JackPosobiec: BREAKING: Epstein Victim Tak...</td>\n",
              "      <td>184</td>\n",
              "      <td>0</td>\n",
              "      <td>NaN</td>\n",
              "      <td>RT : BREAKING: Epstein Victim Takes Stand in G...</td>\n",
              "      <td>RT BREAKING Epstein Victim Takes Stand in Ghis...</td>\n",
              "      <td>RT BREAKING Epstein Victim Takes Stand Ghislai...</td>\n",
              "      <td>RT BREAKING Epstein Victim Takes Stand Ghislai...</td>\n",
              "    </tr>\n",
              "    <tr>\n",
              "      <th>1</th>\n",
              "      <td>Thu Dec 02 16:59:48 +0000 2021</td>\n",
              "      <td>1466452049172697090</td>\n",
              "      <td>Reactions to the Kyle Rittenhouse not guilty v...</td>\n",
              "      <td>0</td>\n",
              "      <td>0</td>\n",
              "      <td>False</td>\n",
              "      <td>Reactions to the Kyle Rittenhouse not guilty v...</td>\n",
              "      <td>Reactions to the Kyle Rittenhouse not guilty v...</td>\n",
              "      <td>Reactions Kyle Rittenhouse guilty verdict Nigh...</td>\n",
              "      <td>Reactions Kyle Rittenhouse guilty verdict Nigh...</td>\n",
              "    </tr>\n",
              "    <tr>\n",
              "      <th>2</th>\n",
              "      <td>Thu Dec 02 16:59:46 +0000 2021</td>\n",
              "      <td>1466452041195134977</td>\n",
              "      <td>RT @JonathanTurley: During the trial, NBC rele...</td>\n",
              "      <td>640</td>\n",
              "      <td>0</td>\n",
              "      <td>False</td>\n",
              "      <td>RT : During the trial, NBC released a statemen...</td>\n",
              "      <td>RT During the trial NBC released a statement t...</td>\n",
              "      <td>RT During trial NBC released statement us foun...</td>\n",
              "      <td>RT During trial NBC released statement u found...</td>\n",
              "    </tr>\n",
              "    <tr>\n",
              "      <th>3</th>\n",
              "      <td>Thu Dec 02 16:59:46 +0000 2021</td>\n",
              "      <td>1466452041136586761</td>\n",
              "      <td>RT @ericgarland: Mark Zuckerberg allows Kyle R...</td>\n",
              "      <td>82</td>\n",
              "      <td>0</td>\n",
              "      <td>False</td>\n",
              "      <td>RT : Mark Zuckerberg allows Kyle Rittenhouse b...</td>\n",
              "      <td>RT Mark Zuckerberg allows Kyle Rittenhouse bac...</td>\n",
              "      <td>RT Mark Zuckerberg allows Kyle Rittenhouse bac...</td>\n",
              "      <td>RT Mark Zuckerberg allows Kyle Rittenhouse bac...</td>\n",
              "    </tr>\n",
              "    <tr>\n",
              "      <th>4</th>\n",
              "      <td>Thu Dec 02 16:59:43 +0000 2021</td>\n",
              "      <td>1466452030000488448</td>\n",
              "      <td>RT @ericgarland: Mark Zuckerberg allows Kyle R...</td>\n",
              "      <td>81</td>\n",
              "      <td>0</td>\n",
              "      <td>False</td>\n",
              "      <td>RT : Mark Zuckerberg allows Kyle Rittenhouse b...</td>\n",
              "      <td>RT Mark Zuckerberg allows Kyle Rittenhouse bac...</td>\n",
              "      <td>RT Mark Zuckerberg allows Kyle Rittenhouse bac...</td>\n",
              "      <td>RT Mark Zuckerberg allows Kyle Rittenhouse bac...</td>\n",
              "    </tr>\n",
              "  </tbody>\n",
              "</table>\n",
              "</div>"
            ],
            "text/plain": [
              "                       created_at  ...                                       ReviewsFinal\n",
              "0  Thu Dec 02 16:59:50 +0000 2021  ...  RT BREAKING Epstein Victim Takes Stand Ghislai...\n",
              "1  Thu Dec 02 16:59:48 +0000 2021  ...  Reactions Kyle Rittenhouse guilty verdict Nigh...\n",
              "2  Thu Dec 02 16:59:46 +0000 2021  ...  RT During trial NBC released statement u found...\n",
              "3  Thu Dec 02 16:59:46 +0000 2021  ...  RT Mark Zuckerberg allows Kyle Rittenhouse bac...\n",
              "4  Thu Dec 02 16:59:43 +0000 2021  ...  RT Mark Zuckerberg allows Kyle Rittenhouse bac...\n",
              "\n",
              "[5 rows x 10 columns]"
            ]
          },
          "metadata": {},
          "execution_count": 151
        }
      ]
    },
    {
      "cell_type": "code",
      "metadata": {
        "colab": {
          "base_uri": "https://localhost:8080/"
        },
        "id": "Q8uvkPE5sDD4",
        "outputId": "7b7a1b2a-5994-4f18-8aeb-b935b048b55d"
      },
      "source": [
        "print(Twitterdf_Reduced.iloc[0]['text'])\n",
        "print(Twitterdf_Reduced.iloc[0]['ReviewsFinal'])\n",
        "print('\\n')\n",
        "print(Twitterdf_Reduced.iloc[1]['text'])\n",
        "print(Twitterdf_Reduced.iloc[1]['ReviewsFinal'])\n",
        "print('\\n')\n",
        "print(Twitterdf_Reduced.iloc[2]['text'])\n",
        "print(Twitterdf_Reduced.iloc[2]['ReviewsFinal'])"
      ],
      "execution_count": 152,
      "outputs": [
        {
          "output_type": "stream",
          "name": "stdout",
          "text": [
            "RT @JackPosobiec: BREAKING: Epstein Victim Takes Stand in Ghislaine Maxwell Trial\n",
            "\n",
            "Supreme Court Official Takes Up Roe v Wade Case \n",
            "\n",
            "Kyle R…\n",
            "RT BREAKING Epstein Victim Takes Stand Ghislaine Maxwell Trial Supreme Court Official Takes Up Roe Wade Case Kyle R\n",
            "\n",
            "\n",
            "Reactions to the Kyle Rittenhouse not guilty verdict | Nightline https://t.co/jBOGZHGO2e\n",
            "Reactions Kyle Rittenhouse guilty verdict Nightline\n",
            "\n",
            "\n",
            "RT @JonathanTurley: During the trial, NBC released a statement that some of us found vague and misleading. Now a police video confirms that…\n",
            "RT During trial NBC released statement u found vague misleading Now police video confirms\n"
          ]
        }
      ]
    },
    {
      "cell_type": "markdown",
      "metadata": {
        "id": "UhQJpnZ6yqN_"
      },
      "source": [
        "## Emotion Analysis"
      ]
    },
    {
      "cell_type": "markdown",
      "metadata": {
        "id": "P-CaRhxODNZk"
      },
      "source": [
        "Source:  https://towardsdatascience.com/text2emotion-python-package-to-detect-emotions-from-textual-data-b2e7b7ce1153\n",
        "\n"
      ]
    },
    {
      "cell_type": "code",
      "metadata": {
        "id": "PQavpQM4DNia",
        "colab": {
          "base_uri": "https://localhost:8080/"
        },
        "outputId": "2fae1e65-83ef-4b15-a4a7-6a5d181b3762"
      },
      "source": [
        "#Install package using pip\n",
        "!pip install text2emotion\n",
        "\n",
        "#Import the modules\n",
        "import text2emotion as te\n",
        "\n",
        "# function to calculate polarity\n",
        "def getEmotion(review):\n",
        "    return te.get_emotion(review)\n",
        "\n",
        " "
      ],
      "execution_count": 153,
      "outputs": [
        {
          "output_type": "stream",
          "name": "stdout",
          "text": [
            "Requirement already satisfied: text2emotion in /usr/local/lib/python3.7/dist-packages (0.0.5)\n",
            "Requirement already satisfied: nltk in /usr/local/lib/python3.7/dist-packages (from text2emotion) (3.2.5)\n",
            "Requirement already satisfied: emoji>=0.6.0 in /usr/local/lib/python3.7/dist-packages (from text2emotion) (1.6.1)\n",
            "Requirement already satisfied: six in /usr/local/lib/python3.7/dist-packages (from nltk->text2emotion) (1.15.0)\n"
          ]
        }
      ]
    },
    {
      "cell_type": "code",
      "metadata": {
        "id": "l0lBptVJGEEs",
        "colab": {
          "base_uri": "https://localhost:8080/",
          "height": 605
        },
        "outputId": "a595efdb-68b9-49df-d28d-6eacbc6a8bb0"
      },
      "source": [
        "#Get the emotion scores\n",
        "Twitterdf_Reduced['Emotion'] = Twitterdf_Reduced['ReviewsFinal'].apply(getEmotion)\n",
        "Twitterdf_Reduced.head()"
      ],
      "execution_count": 154,
      "outputs": [
        {
          "output_type": "execute_result",
          "data": {
            "text/html": [
              "<div>\n",
              "<style scoped>\n",
              "    .dataframe tbody tr th:only-of-type {\n",
              "        vertical-align: middle;\n",
              "    }\n",
              "\n",
              "    .dataframe tbody tr th {\n",
              "        vertical-align: top;\n",
              "    }\n",
              "\n",
              "    .dataframe thead th {\n",
              "        text-align: right;\n",
              "    }\n",
              "</style>\n",
              "<table border=\"1\" class=\"dataframe\">\n",
              "  <thead>\n",
              "    <tr style=\"text-align: right;\">\n",
              "      <th></th>\n",
              "      <th>created_at</th>\n",
              "      <th>id</th>\n",
              "      <th>text</th>\n",
              "      <th>retweet_count</th>\n",
              "      <th>favorite_count</th>\n",
              "      <th>possibly_sensitive</th>\n",
              "      <th>CleanedTwitter</th>\n",
              "      <th>CleanedReviews</th>\n",
              "      <th>CleanedReviews_NoStopWords</th>\n",
              "      <th>ReviewsFinal</th>\n",
              "      <th>Emotion</th>\n",
              "    </tr>\n",
              "  </thead>\n",
              "  <tbody>\n",
              "    <tr>\n",
              "      <th>0</th>\n",
              "      <td>Thu Dec 02 16:59:50 +0000 2021</td>\n",
              "      <td>1466452055636201474</td>\n",
              "      <td>RT @JackPosobiec: BREAKING: Epstein Victim Tak...</td>\n",
              "      <td>184</td>\n",
              "      <td>0</td>\n",
              "      <td>NaN</td>\n",
              "      <td>RT : BREAKING: Epstein Victim Takes Stand in G...</td>\n",
              "      <td>RT BREAKING Epstein Victim Takes Stand in Ghis...</td>\n",
              "      <td>RT BREAKING Epstein Victim Takes Stand Ghislai...</td>\n",
              "      <td>RT BREAKING Epstein Victim Takes Stand Ghislai...</td>\n",
              "      <td>{'Happy': 0.0, 'Angry': 0.0, 'Surprise': 0.6, ...</td>\n",
              "    </tr>\n",
              "    <tr>\n",
              "      <th>1</th>\n",
              "      <td>Thu Dec 02 16:59:48 +0000 2021</td>\n",
              "      <td>1466452049172697090</td>\n",
              "      <td>Reactions to the Kyle Rittenhouse not guilty v...</td>\n",
              "      <td>0</td>\n",
              "      <td>0</td>\n",
              "      <td>False</td>\n",
              "      <td>Reactions to the Kyle Rittenhouse not guilty v...</td>\n",
              "      <td>Reactions to the Kyle Rittenhouse not guilty v...</td>\n",
              "      <td>Reactions Kyle Rittenhouse guilty verdict Nigh...</td>\n",
              "      <td>Reactions Kyle Rittenhouse guilty verdict Nigh...</td>\n",
              "      <td>{'Happy': 1.0, 'Angry': 0.0, 'Surprise': 0.0, ...</td>\n",
              "    </tr>\n",
              "    <tr>\n",
              "      <th>2</th>\n",
              "      <td>Thu Dec 02 16:59:46 +0000 2021</td>\n",
              "      <td>1466452041195134977</td>\n",
              "      <td>RT @JonathanTurley: During the trial, NBC rele...</td>\n",
              "      <td>640</td>\n",
              "      <td>0</td>\n",
              "      <td>False</td>\n",
              "      <td>RT : During the trial, NBC released a statemen...</td>\n",
              "      <td>RT During the trial NBC released a statement t...</td>\n",
              "      <td>RT During trial NBC released statement us foun...</td>\n",
              "      <td>RT During trial NBC released statement u found...</td>\n",
              "      <td>{'Happy': 0.0, 'Angry': 0.0, 'Surprise': 0.0, ...</td>\n",
              "    </tr>\n",
              "    <tr>\n",
              "      <th>3</th>\n",
              "      <td>Thu Dec 02 16:59:46 +0000 2021</td>\n",
              "      <td>1466452041136586761</td>\n",
              "      <td>RT @ericgarland: Mark Zuckerberg allows Kyle R...</td>\n",
              "      <td>82</td>\n",
              "      <td>0</td>\n",
              "      <td>False</td>\n",
              "      <td>RT : Mark Zuckerberg allows Kyle Rittenhouse b...</td>\n",
              "      <td>RT Mark Zuckerberg allows Kyle Rittenhouse bac...</td>\n",
              "      <td>RT Mark Zuckerberg allows Kyle Rittenhouse bac...</td>\n",
              "      <td>RT Mark Zuckerberg allows Kyle Rittenhouse bac...</td>\n",
              "      <td>{'Happy': 0, 'Angry': 0, 'Surprise': 0, 'Sad':...</td>\n",
              "    </tr>\n",
              "    <tr>\n",
              "      <th>4</th>\n",
              "      <td>Thu Dec 02 16:59:43 +0000 2021</td>\n",
              "      <td>1466452030000488448</td>\n",
              "      <td>RT @ericgarland: Mark Zuckerberg allows Kyle R...</td>\n",
              "      <td>81</td>\n",
              "      <td>0</td>\n",
              "      <td>False</td>\n",
              "      <td>RT : Mark Zuckerberg allows Kyle Rittenhouse b...</td>\n",
              "      <td>RT Mark Zuckerberg allows Kyle Rittenhouse bac...</td>\n",
              "      <td>RT Mark Zuckerberg allows Kyle Rittenhouse bac...</td>\n",
              "      <td>RT Mark Zuckerberg allows Kyle Rittenhouse bac...</td>\n",
              "      <td>{'Happy': 0, 'Angry': 0, 'Surprise': 0, 'Sad':...</td>\n",
              "    </tr>\n",
              "  </tbody>\n",
              "</table>\n",
              "</div>"
            ],
            "text/plain": [
              "                       created_at  ...                                            Emotion\n",
              "0  Thu Dec 02 16:59:50 +0000 2021  ...  {'Happy': 0.0, 'Angry': 0.0, 'Surprise': 0.6, ...\n",
              "1  Thu Dec 02 16:59:48 +0000 2021  ...  {'Happy': 1.0, 'Angry': 0.0, 'Surprise': 0.0, ...\n",
              "2  Thu Dec 02 16:59:46 +0000 2021  ...  {'Happy': 0.0, 'Angry': 0.0, 'Surprise': 0.0, ...\n",
              "3  Thu Dec 02 16:59:46 +0000 2021  ...  {'Happy': 0, 'Angry': 0, 'Surprise': 0, 'Sad':...\n",
              "4  Thu Dec 02 16:59:43 +0000 2021  ...  {'Happy': 0, 'Angry': 0, 'Surprise': 0, 'Sad':...\n",
              "\n",
              "[5 rows x 11 columns]"
            ]
          },
          "metadata": {},
          "execution_count": 154
        }
      ]
    },
    {
      "cell_type": "code",
      "metadata": {
        "id": "3hNv_to4LoTu",
        "colab": {
          "base_uri": "https://localhost:8080/",
          "height": 625
        },
        "outputId": "8df2ac57-7916-4ae0-ae6b-c9aa3d529fd9"
      },
      "source": [
        "#Split emotion list up into seperate columns\n",
        "Twitterdf_Reduced[['Happy','Angry', 'Surprise', 'Sad', 'Fear']] = pd.DataFrame(Twitterdf_Reduced.Emotion.values.tolist(), index= Twitterdf_Reduced.index)\n",
        "\n",
        "Twitterdf_Reduced.head()"
      ],
      "execution_count": 155,
      "outputs": [
        {
          "output_type": "execute_result",
          "data": {
            "text/html": [
              "<div>\n",
              "<style scoped>\n",
              "    .dataframe tbody tr th:only-of-type {\n",
              "        vertical-align: middle;\n",
              "    }\n",
              "\n",
              "    .dataframe tbody tr th {\n",
              "        vertical-align: top;\n",
              "    }\n",
              "\n",
              "    .dataframe thead th {\n",
              "        text-align: right;\n",
              "    }\n",
              "</style>\n",
              "<table border=\"1\" class=\"dataframe\">\n",
              "  <thead>\n",
              "    <tr style=\"text-align: right;\">\n",
              "      <th></th>\n",
              "      <th>created_at</th>\n",
              "      <th>id</th>\n",
              "      <th>text</th>\n",
              "      <th>retweet_count</th>\n",
              "      <th>favorite_count</th>\n",
              "      <th>possibly_sensitive</th>\n",
              "      <th>CleanedTwitter</th>\n",
              "      <th>CleanedReviews</th>\n",
              "      <th>CleanedReviews_NoStopWords</th>\n",
              "      <th>ReviewsFinal</th>\n",
              "      <th>Emotion</th>\n",
              "      <th>Happy</th>\n",
              "      <th>Angry</th>\n",
              "      <th>Surprise</th>\n",
              "      <th>Sad</th>\n",
              "      <th>Fear</th>\n",
              "    </tr>\n",
              "  </thead>\n",
              "  <tbody>\n",
              "    <tr>\n",
              "      <th>0</th>\n",
              "      <td>Thu Dec 02 16:59:50 +0000 2021</td>\n",
              "      <td>1466452055636201474</td>\n",
              "      <td>RT @JackPosobiec: BREAKING: Epstein Victim Tak...</td>\n",
              "      <td>184</td>\n",
              "      <td>0</td>\n",
              "      <td>NaN</td>\n",
              "      <td>RT : BREAKING: Epstein Victim Takes Stand in G...</td>\n",
              "      <td>RT BREAKING Epstein Victim Takes Stand in Ghis...</td>\n",
              "      <td>RT BREAKING Epstein Victim Takes Stand Ghislai...</td>\n",
              "      <td>RT BREAKING Epstein Victim Takes Stand Ghislai...</td>\n",
              "      <td>{'Happy': 0.0, 'Angry': 0.0, 'Surprise': 0.6, ...</td>\n",
              "      <td>0.0</td>\n",
              "      <td>0.0</td>\n",
              "      <td>0.6</td>\n",
              "      <td>0.0</td>\n",
              "      <td>0.4</td>\n",
              "    </tr>\n",
              "    <tr>\n",
              "      <th>1</th>\n",
              "      <td>Thu Dec 02 16:59:48 +0000 2021</td>\n",
              "      <td>1466452049172697090</td>\n",
              "      <td>Reactions to the Kyle Rittenhouse not guilty v...</td>\n",
              "      <td>0</td>\n",
              "      <td>0</td>\n",
              "      <td>False</td>\n",
              "      <td>Reactions to the Kyle Rittenhouse not guilty v...</td>\n",
              "      <td>Reactions to the Kyle Rittenhouse not guilty v...</td>\n",
              "      <td>Reactions Kyle Rittenhouse guilty verdict Nigh...</td>\n",
              "      <td>Reactions Kyle Rittenhouse guilty verdict Nigh...</td>\n",
              "      <td>{'Happy': 1.0, 'Angry': 0.0, 'Surprise': 0.0, ...</td>\n",
              "      <td>1.0</td>\n",
              "      <td>0.0</td>\n",
              "      <td>0.0</td>\n",
              "      <td>0.0</td>\n",
              "      <td>0.0</td>\n",
              "    </tr>\n",
              "    <tr>\n",
              "      <th>2</th>\n",
              "      <td>Thu Dec 02 16:59:46 +0000 2021</td>\n",
              "      <td>1466452041195134977</td>\n",
              "      <td>RT @JonathanTurley: During the trial, NBC rele...</td>\n",
              "      <td>640</td>\n",
              "      <td>0</td>\n",
              "      <td>False</td>\n",
              "      <td>RT : During the trial, NBC released a statemen...</td>\n",
              "      <td>RT During the trial NBC released a statement t...</td>\n",
              "      <td>RT During trial NBC released statement us foun...</td>\n",
              "      <td>RT During trial NBC released statement u found...</td>\n",
              "      <td>{'Happy': 0.0, 'Angry': 0.0, 'Surprise': 0.0, ...</td>\n",
              "      <td>0.0</td>\n",
              "      <td>0.0</td>\n",
              "      <td>0.0</td>\n",
              "      <td>0.0</td>\n",
              "      <td>1.0</td>\n",
              "    </tr>\n",
              "    <tr>\n",
              "      <th>3</th>\n",
              "      <td>Thu Dec 02 16:59:46 +0000 2021</td>\n",
              "      <td>1466452041136586761</td>\n",
              "      <td>RT @ericgarland: Mark Zuckerberg allows Kyle R...</td>\n",
              "      <td>82</td>\n",
              "      <td>0</td>\n",
              "      <td>False</td>\n",
              "      <td>RT : Mark Zuckerberg allows Kyle Rittenhouse b...</td>\n",
              "      <td>RT Mark Zuckerberg allows Kyle Rittenhouse bac...</td>\n",
              "      <td>RT Mark Zuckerberg allows Kyle Rittenhouse bac...</td>\n",
              "      <td>RT Mark Zuckerberg allows Kyle Rittenhouse bac...</td>\n",
              "      <td>{'Happy': 0, 'Angry': 0, 'Surprise': 0, 'Sad':...</td>\n",
              "      <td>0.0</td>\n",
              "      <td>0.0</td>\n",
              "      <td>0.0</td>\n",
              "      <td>0.0</td>\n",
              "      <td>0.0</td>\n",
              "    </tr>\n",
              "    <tr>\n",
              "      <th>4</th>\n",
              "      <td>Thu Dec 02 16:59:43 +0000 2021</td>\n",
              "      <td>1466452030000488448</td>\n",
              "      <td>RT @ericgarland: Mark Zuckerberg allows Kyle R...</td>\n",
              "      <td>81</td>\n",
              "      <td>0</td>\n",
              "      <td>False</td>\n",
              "      <td>RT : Mark Zuckerberg allows Kyle Rittenhouse b...</td>\n",
              "      <td>RT Mark Zuckerberg allows Kyle Rittenhouse bac...</td>\n",
              "      <td>RT Mark Zuckerberg allows Kyle Rittenhouse bac...</td>\n",
              "      <td>RT Mark Zuckerberg allows Kyle Rittenhouse bac...</td>\n",
              "      <td>{'Happy': 0, 'Angry': 0, 'Surprise': 0, 'Sad':...</td>\n",
              "      <td>0.0</td>\n",
              "      <td>0.0</td>\n",
              "      <td>0.0</td>\n",
              "      <td>0.0</td>\n",
              "      <td>0.0</td>\n",
              "    </tr>\n",
              "  </tbody>\n",
              "</table>\n",
              "</div>"
            ],
            "text/plain": [
              "                       created_at                   id  ...  Sad  Fear\n",
              "0  Thu Dec 02 16:59:50 +0000 2021  1466452055636201474  ...  0.0   0.4\n",
              "1  Thu Dec 02 16:59:48 +0000 2021  1466452049172697090  ...  0.0   0.0\n",
              "2  Thu Dec 02 16:59:46 +0000 2021  1466452041195134977  ...  0.0   1.0\n",
              "3  Thu Dec 02 16:59:46 +0000 2021  1466452041136586761  ...  0.0   0.0\n",
              "4  Thu Dec 02 16:59:43 +0000 2021  1466452030000488448  ...  0.0   0.0\n",
              "\n",
              "[5 rows x 16 columns]"
            ]
          },
          "metadata": {},
          "execution_count": 155
        }
      ]
    },
    {
      "cell_type": "markdown",
      "metadata": {
        "id": "0Fn36qMLL2C9"
      },
      "source": [
        ""
      ]
    },
    {
      "cell_type": "code",
      "metadata": {
        "id": "vRymAJAXL2M8",
        "colab": {
          "base_uri": "https://localhost:8080/",
          "height": 80
        },
        "outputId": "91e4230c-562d-48d8-f56d-6db56b8fbae7"
      },
      "source": [
        "#Piping in dfply and using filter_by() to grab requested rows.\n",
        "(Twitterdf_Reduced\n",
        "    >>summarize(\n",
        "                  Avg_Happy=X.Happy.mean(),\n",
        "                  Avg_Angry=X.Angry.mean(),\n",
        "                  Avg_Surprise=X.Surprise.mean(),\n",
        "                  Avg_Sad=X.Sad.mean(),\n",
        "                  Avg_Fear=X.Fear.mean()\n",
        "                )\n",
        ")"
      ],
      "execution_count": 156,
      "outputs": [
        {
          "output_type": "execute_result",
          "data": {
            "text/html": [
              "<div>\n",
              "<style scoped>\n",
              "    .dataframe tbody tr th:only-of-type {\n",
              "        vertical-align: middle;\n",
              "    }\n",
              "\n",
              "    .dataframe tbody tr th {\n",
              "        vertical-align: top;\n",
              "    }\n",
              "\n",
              "    .dataframe thead th {\n",
              "        text-align: right;\n",
              "    }\n",
              "</style>\n",
              "<table border=\"1\" class=\"dataframe\">\n",
              "  <thead>\n",
              "    <tr style=\"text-align: right;\">\n",
              "      <th></th>\n",
              "      <th>Avg_Happy</th>\n",
              "      <th>Avg_Angry</th>\n",
              "      <th>Avg_Surprise</th>\n",
              "      <th>Avg_Sad</th>\n",
              "      <th>Avg_Fear</th>\n",
              "    </tr>\n",
              "  </thead>\n",
              "  <tbody>\n",
              "    <tr>\n",
              "      <th>0</th>\n",
              "      <td>0.0558</td>\n",
              "      <td>0.1025</td>\n",
              "      <td>0.1678</td>\n",
              "      <td>0.2532</td>\n",
              "      <td>0.2404</td>\n",
              "    </tr>\n",
              "  </tbody>\n",
              "</table>\n",
              "</div>"
            ],
            "text/plain": [
              "   Avg_Happy  Avg_Angry  Avg_Surprise  Avg_Sad  Avg_Fear\n",
              "0     0.0558     0.1025        0.1678   0.2532    0.2404"
            ]
          },
          "metadata": {},
          "execution_count": 156
        }
      ]
    }
  ]
}